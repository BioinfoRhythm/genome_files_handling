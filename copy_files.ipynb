{
 "cells": [
  {
   "cell_type": "markdown",
   "id": "23f86e89-ca16-44a7-a211-8e3dff7ff9bc",
   "metadata": {},
   "source": [
    "## Copying files from one folder to another according to given list\n"
   ]
  },
  {
   "cell_type": "code",
   "execution_count": 36,
   "id": "c92cdcae-002e-42d8-ab11-c34283198263",
   "metadata": {
    "scrolled": true
   },
   "outputs": [
    {
     "name": "stdout",
     "output_type": "stream",
     "text": [
      "[done...]\n"
     ]
    }
   ],
   "source": [
    "import os\n",
    "\n",
    "\n",
    "# Define the source directory containing the genome files\n",
    "source_directory = '/home/neo/Documents/Project_1/genomes'\n",
    "# Define the target directory where you want to copy the selected genomes\n",
    "target_directory = '/home/neo/Documents/Project_1/countrywise_data/asia/output'\n",
    "# Define the path to the missing IDs file\n",
    "missing_ids_file = '/home/neo/Documents/Project_1/countrywise_data/asia/input/asia_missing.txt'\n",
    "\n",
    "\n",
    "List = open('/home/neo/Documents/Project_1/countrywise_data/asia/input/asia.txt','r')\n",
    "missing = open(missing_ids_file,'w')\n",
    "\n",
    "# Creation of an empty list\n",
    "list1 = []\n",
    "for lst in List.readlines():\n",
    "    # print(lst.strip())\n",
    "    list1.append(lst.strip())\n",
    "# print(\"Len: \",len(list1),list1)\n",
    "for file in os.listdir(source_directory):\n",
    "    # print(file.split('_ASM')[0])\n",
    "    if file.split('_ASM')[0] in list1:\n",
    "        os.system(f\"cp {source_directory}/{file} {target_directory}\")\n",
    "    elif file.split('_ASM')[0] not in list1:\n",
    "        # print(f\"{file} not moved.\")\n",
    "        missing.writelines(file)\n",
    "        missing.writelines(\"\\n\")\n",
    "    else:\n",
    "        print(\"problem in \",file)\n",
    "print(\"[done...]\")"
   ]
  },
  {
   "cell_type": "code",
   "execution_count": null,
   "id": "90386ef1-ccf6-4b61-9756-9400e6f656e4",
   "metadata": {},
   "outputs": [],
   "source": []
  }
 ],
 "metadata": {
  "kernelspec": {
   "display_name": "Python 3 (ipykernel)",
   "language": "python",
   "name": "python3"
  },
  "language_info": {
   "codemirror_mode": {
    "name": "ipython",
    "version": 3
   },
   "file_extension": ".py",
   "mimetype": "text/x-python",
   "name": "python",
   "nbconvert_exporter": "python",
   "pygments_lexer": "ipython3",
   "version": "3.10.13"
  }
 },
 "nbformat": 4,
 "nbformat_minor": 5
}
